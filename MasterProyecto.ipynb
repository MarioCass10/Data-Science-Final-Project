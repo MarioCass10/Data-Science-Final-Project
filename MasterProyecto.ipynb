{
  "nbformat": 4,
  "nbformat_minor": 0,
  "metadata": {
    "colab": {
      "provenance": [],
      "authorship_tag": "ABX9TyPXLKFKj7SZIb1DpdsWyztZ",
      "include_colab_link": true
    },
    "kernelspec": {
      "name": "python3",
      "display_name": "Python 3"
    },
    "language_info": {
      "name": "python"
    }
  },
  "cells": [
    {
      "cell_type": "markdown",
      "metadata": {
        "id": "view-in-github",
        "colab_type": "text"
      },
      "source": [
        "<a href=\"https://colab.research.google.com/github/MarioCass10/Data-Science-Final-Project/blob/main/MasterProyecto.ipynb\" target=\"_parent\"><img src=\"https://colab.research.google.com/assets/colab-badge.svg\" alt=\"Open In Colab\"/></a>"
      ]
    },
    {
      "cell_type": "code",
      "execution_count": null,
      "metadata": {
        "id": "AQx0gTzL336f"
      },
      "outputs": [],
      "source": [
        "#Importamos librerias\n",
        "import pandas as pd\n",
        "from sklearn.tree import DecisionTreeClassifier, export_graphviz\n",
        "from sklearn.model_selection import train_test_split\n",
        "from sklearn import preprocessing\n",
        "from sklearn.metrics import confusion_matrix\n",
        "import graphviz\n",
        "from sklearn import tree \n",
        "\n",
        "#Cargamos datos\n",
        "master = pd.read_excel(\"/content/MasterProyecto.xlsx\")\n",
        "\n",
        "#Se eliminan filas que tengan valor NaN.\n",
        "master = master.dropna()\n",
        "master = master.reset_index(drop=True)\n",
        "\n",
        "#Cabio el nombre a mis variables\n",
        "\n",
        "master.rename(columns={\"varprim_variacion_ipritari_ultimos_3_meses\":\"meses3\",\"varprim_variacion_ipritari_ultimos_6_meses\":\"meses6\",\"varprim_variacion_ipritari_ultimos_12_meses\":\"meses12\"},inplace=True)\n",
        "\n",
        "\n",
        "#convertimos de factor a numerico\n",
        "\n",
        "'''conversortype1= preprocessing.LabelEncoder()\n",
        "conversortype1.fit(master.tipo1.astype(str))\n",
        "master[\"Tipo1numero\"]= conversortype1.transform(master.tipo1.astype(str))\n",
        "\n",
        "conversortype1= preprocessing.LabelEncoder()\n",
        "conversortype1.fit(master.tipo2.astype(str))\n",
        "master[\"Tipo2numero\"]= conversortype1.transform(master.tipo2.astype(str))'''\n",
        "\n",
        "\n",
        "# dividimos en variable a predecir (y) y variables predictoras (x)\n",
        "y = master.loc[:,[\"target\"]]\n",
        "x = master.loc[:,~ master.columns.isin (['target',\"meses3\",\"meses6\",\"meses12\",\"#\"])]\n",
        "\n",
        "# dividimos en train (80%) y test (20%)\n",
        "x_train, x_test, y_train, y_test = train_test_split(x, y, test_size=0.20)\n"
      ]
    },
    {
      "cell_type": "code",
      "source": [
        "from sklearn import tree \n",
        "#Entrenamos el modelo y vemos las variables mas importantes y hacemos un grafico para ello\n",
        "model= tree.DecisionTreeClassifier(max_depth=3)\n",
        "model.fit(x_train,y_train)\n",
        "model.feature_importances_\n",
        "\n",
        "def create_df():\n",
        "    data={\"nombres\":x.columns,\"Important\":model.feature_importances_}\n",
        "    df= pd.DataFrame(data)\n",
        "    return df\n",
        "\n",
        "variables_importantes= create_df()\n",
        "\n",
        "from plotnine import *\n",
        "ggplot(aes(x=\"nombres\",y=\"Important\",fill=\"Important\"),variables_importantes)\\\n",
        "    +geom_bar(stat=\"identity\",position=\"stack\")+coord_flip()\n",
        "\n",
        "\n",
        "#Vemos cómo es de bueno el modelo viendo cómo predice en el test\n",
        "model.score(x_test,y_test)\n",
        "predictions = model.predict(x_test)\n",
        "confusion_matrix(y_test,predictions)\n",
        "\n",
        "#Vemos cómo es el Arbol en el train con un gráfico de árbol\n",
        "dot_data = export_graphviz(model, filled=True, feature_names=x_train.columns,\n",
        "                           class_names=[\"No meses\",\"Meses\"])\n",
        "graph = graphviz.Source(dot_data)\n",
        "graph.render(\"master tree\")"
      ],
      "metadata": {
        "colab": {
          "base_uri": "https://localhost:8080/",
          "height": 35
        },
        "id": "R_-GOvLEmFbH",
        "outputId": "90ce756b-eac2-471d-e696-ba440a3761ba"
      },
      "execution_count": null,
      "outputs": [
        {
          "output_type": "execute_result",
          "data": {
            "text/plain": [
              "'master tree.pdf'"
            ],
            "application/vnd.google.colaboratory.intrinsic+json": {
              "type": "string"
            }
          },
          "metadata": {},
          "execution_count": 7
        }
      ]
    }
  ]
}